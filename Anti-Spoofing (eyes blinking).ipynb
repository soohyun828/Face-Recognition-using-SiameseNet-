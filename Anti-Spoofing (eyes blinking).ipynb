{
 "cells": [
  {
   "cell_type": "code",
   "execution_count": 2,
   "id": "9ad5ee46",
   "metadata": {},
   "outputs": [
    {
     "ename": "ModuleNotFoundError",
     "evalue": "No module named 'dlib'",
     "output_type": "error",
     "traceback": [
      "\u001b[1;31m---------------------------------------------------------------------------\u001b[0m",
      "\u001b[1;31mModuleNotFoundError\u001b[0m                       Traceback (most recent call last)",
      "\u001b[1;32m~\\AppData\\Local\\Temp\\ipykernel_28612\\2558370680.py\u001b[0m in \u001b[0;36m<module>\u001b[1;34m\u001b[0m\n\u001b[1;32m----> 1\u001b[1;33m \u001b[1;32mimport\u001b[0m \u001b[0mdlib\u001b[0m\u001b[1;33m\u001b[0m\u001b[1;33m\u001b[0m\u001b[0m\n\u001b[0m\u001b[0;32m      2\u001b[0m \u001b[1;32mimport\u001b[0m \u001b[0mcv2\u001b[0m\u001b[1;33m\u001b[0m\u001b[1;33m\u001b[0m\u001b[0m\n\u001b[0;32m      3\u001b[0m \u001b[1;32mimport\u001b[0m \u001b[0mnumpy\u001b[0m \u001b[1;32mas\u001b[0m \u001b[0mnp\u001b[0m\u001b[1;33m\u001b[0m\u001b[1;33m\u001b[0m\u001b[0m\n\u001b[0;32m      4\u001b[0m \u001b[1;32mimport\u001b[0m \u001b[0mimutils\u001b[0m\u001b[1;33m\u001b[0m\u001b[1;33m\u001b[0m\u001b[0m\n\u001b[0;32m      5\u001b[0m \u001b[1;32mfrom\u001b[0m \u001b[0mscipy\u001b[0m\u001b[1;33m.\u001b[0m\u001b[0mspatial\u001b[0m \u001b[1;32mimport\u001b[0m \u001b[0mdistance\u001b[0m \u001b[1;32mas\u001b[0m \u001b[0mdist\u001b[0m\u001b[1;33m\u001b[0m\u001b[1;33m\u001b[0m\u001b[0m\n",
      "\u001b[1;31mModuleNotFoundError\u001b[0m: No module named 'dlib'"
     ]
    }
   ],
   "source": [
    "import dlib\n",
    "import cv2\n",
    "import numpy as np\n",
    "import imutils\n",
    "from scipy.spatial import distance as dist\n",
    "from imutils.video import VideoStream\n",
    "import time\n",
    "import f_detector"
   ]
  },
  {
   "cell_type": "code",
   "execution_count": null,
   "id": "d7972ef5",
   "metadata": {},
   "outputs": [],
   "source": [
    "# define two constants, one for the eye aspect ratio to indicate\n",
    "# blink and then a second constant for the number of consecutive\n",
    "# frames the eye must be below the threshold\n",
    "EYE_AR_THRESH = 0.23 #baseline\n",
    "EYE_AR_CONSEC_FRAMES = 3\n",
    "\n",
    "# eye landmarks\n",
    "eye_landmarks = \"model_landmarks/shape_predictor_68_face_landmarks.dat\"\n",
    "# initialize the frame counters and the total number of blinks\n",
    "COUNTER = 0\n",
    "TOTAL = 0"
   ]
  },
  {
   "cell_type": "code",
   "execution_count": null,
   "id": "b8c7913d",
   "metadata": {},
   "outputs": [],
   "source": [
    "class eye_blink_detector():\n",
    "    def __init__(self):\n",
    "        # cargar modelo para detecction frontal de rostros\n",
    "        self.detector_faces = dlib.get_frontal_face_detector()\n",
    "        # cargar modelo para deteccion de puntos de ojos\n",
    "        self.predictor_eyes = dlib.shape_predictor(eye_landmarks)\n",
    "\n",
    "    def eye_blink(self,gray,rect,COUNTER,TOTAL):\n",
    "        (lStart, lEnd) = face_utils.FACIAL_LANDMARKS_IDXS[\"left_eye\"]\n",
    "        (rStart, rEnd) = face_utils.FACIAL_LANDMARKS_IDXS[\"right_eye\"]\n",
    "        # determine the facial landmarks for the face region, then\n",
    "        # convert the facial landmark (x, y)-coordinates to a NumPy\n",
    "        # array\n",
    "        shape = self.predictor_eyes(gray, rect)\n",
    "        shape = face_utils.shape_to_np(shape)\n",
    "        # extract the left and right eye coordinates, then use the\n",
    "        # coordinates to compute the eye aspect ratio for both eyes\n",
    "        leftEye = shape[lStart:lEnd]\n",
    "        rightEye = shape[rStart:rEnd]\n",
    "        leftEAR = self.eye_aspect_ratio(leftEye)\n",
    "        rightEAR = self.eye_aspect_ratio(rightEye)\n",
    "        # average the eye aspect ratio together for both eyes\n",
    "        ear = (leftEAR + rightEAR) / 2.0\n",
    "        # check to see if the eye aspect ratio is below the blink\n",
    "        # threshold, and if so, increment the blink frame counter\n",
    "        if ear < EYE_AR_THRESH:\n",
    "            COUNTER += 1\n",
    "        # otherwise, the eye aspect ratio is not below the blink\n",
    "        # threshold\n",
    "        else:\n",
    "            # if the eyes were closed for a sufficient number of\n",
    "            # then increment the total number of blinks\n",
    "            if COUNTER >= EYE_AR_CONSEC_FRAMES:\n",
    "                TOTAL += 1\n",
    "            # reset the eye frame counter\n",
    "            COUNTER = 0\n",
    "        return COUNTER,TOTAL\n",
    "\n",
    "    def eye_aspect_ratio(self,eye):\n",
    "        # compute the euclidean distances between the two sets of\n",
    "        # vertical eye landmarks (x, y)-coordinates\n",
    "        A = dist.euclidean(eye[1], eye[5])\n",
    "        B = dist.euclidean(eye[2], eye[4])\n",
    "        # compute the euclidean distance between the horizontal\n",
    "        # eye landmark (x, y)-coordinates\n",
    "        C = dist.euclidean(eye[0], eye[3])\n",
    "        # compute the eye aspect ratio\n",
    "        ear = (A + B) / (2.0 * C)\n",
    "        # return the eye aspect ratio\n",
    "        return ear"
   ]
  },
  {
   "cell_type": "code",
   "execution_count": null,
   "id": "b00689f2",
   "metadata": {},
   "outputs": [],
   "source": [
    "def convert_rectangles2array(rectangles,image):\n",
    "    res = np.array([])\n",
    "    for box in rectangles:\n",
    "        [x0,y0,x1,y1] = max(0, box.left()), max(0, box.top()), min(box.right(), image.shape[1]), min(box.bottom(), image.shape[0])\n",
    "        new_box = np.array([x0,y0,x1,y1])\n",
    "        if res.size == 0:\n",
    "            res = np.expand_dims(new_box,axis=0)\n",
    "        else:\n",
    "            res = np.vstack((res,new_box))\n",
    "    return res"
   ]
  },
  {
   "cell_type": "code",
   "execution_count": null,
   "id": "9ff6b059",
   "metadata": {},
   "outputs": [],
   "source": [
    "def get_areas(boxes):\n",
    "    areas = []\n",
    "    for box in boxes:\n",
    "        x0,y0,x1,y1 = box\n",
    "        area = (y1-y0)*(x1-x0)\n",
    "        areas.append(area)\n",
    "    return areas"
   ]
  },
  {
   "cell_type": "code",
   "execution_count": null,
   "id": "9ce7b0e5",
   "metadata": {},
   "outputs": [],
   "source": [
    "def bounding_box(img,box,match_name=[]):\n",
    "    for i in np.arange(len(box)):\n",
    "        x0,y0,x1,y1 = box[i]\n",
    "        img = cv2.rectangle(img,\n",
    "                    (x0,y0),\n",
    "                    (x1,y1),\n",
    "                    (0,255,0),3);\n",
    "        if not match_name:\n",
    "            continue\n",
    "        else:\n",
    "            cv2.putText(img, match_name[i], (x0, y0-10), cv2.FONT_HERSHEY_SIMPLEX, 0.9, (0,255,0), 2)\n",
    "    return img"
   ]
  },
  {
   "cell_type": "code",
   "execution_count": null,
   "id": "4bfa5baa",
   "metadata": {},
   "outputs": [],
   "source": [
    "# instancio detector\n",
    "detector = f_detector.eye_blink_detector()\n",
    "# iniciar variables para el detector de parapadeo\n",
    "COUNTER = 0\n",
    "TOTAL = 0"
   ]
  },
  {
   "cell_type": "code",
   "execution_count": null,
   "id": "f09460f1",
   "metadata": {},
   "outputs": [],
   "source": [
    "# ----------------------------- video -----------------------------\n",
    "#ingestar data\n",
    "vs = VideoStream(src=0).start()\n",
    "while True:\n",
    "    star_time = time.time()\n",
    "    im = vs.read()\n",
    "    im = cv2.flip(im, 1)\n",
    "    im = imutils.resize(im, width=720)\n",
    "    gray = cv2.cvtColor(im, cv2.COLOR_BGR2GRAY)\n",
    "    # detectar_rostro    \n",
    "    rectangles = detector.detector_faces(gray, 0)\n",
    "    boxes_face = f_detector.convert_rectangles2array(rectangles,im)\n",
    "    if len(boxes_face)!=0:\n",
    "        # seleccionar el rostro con mas area\n",
    "        areas = f_detector.get_areas(boxes_face)\n",
    "        index = np.argmax(areas)\n",
    "        rectangles = rectangles[index]\n",
    "        boxes_face = np.expand_dims(boxes_face[index],axis=0)\n",
    "        # blinks_detector\n",
    "        COUNTER,TOTAL = detector.eye_blink(gray,rectangles,COUNTER,TOTAL)\n",
    "        # agregar bounding box\n",
    "        img_post = f_detector.bounding_box(im,boxes_face,['blinks: {}'.format(TOTAL)])\n",
    "        if TOTAL > 0 :\n",
    "            break\n",
    "    else:\n",
    "        img_post = im \n",
    "    # visualizacion \n",
    "    end_time = time.time() - star_time    \n",
    "    FPS = 1/end_time\n",
    "    cv2.putText(img_post,f\"FPS: {round(FPS,3)}\",(10,50),cv2.FONT_HERSHEY_COMPLEX,1,(0,0,255),2)\n",
    "    cv2.imshow('blink_detection',img_post)\n",
    "    if cv2.waitKey(1) &0xFF == ord('q'):\n",
    "        break"
   ]
  }
 ],
 "metadata": {
  "kernelspec": {
   "display_name": "Python 3 (ipykernel)",
   "language": "python",
   "name": "python3"
  },
  "language_info": {
   "codemirror_mode": {
    "name": "ipython",
    "version": 3
   },
   "file_extension": ".py",
   "mimetype": "text/x-python",
   "name": "python",
   "nbconvert_exporter": "python",
   "pygments_lexer": "ipython3",
   "version": "3.9.13"
  }
 },
 "nbformat": 4,
 "nbformat_minor": 5
}
