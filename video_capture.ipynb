{
 "cells": [
  {
   "cell_type": "code",
   "execution_count": 1,
   "metadata": {
    "colab": {
     "base_uri": "https://localhost:8080/"
    },
    "id": "Na5b2vRNFSTS",
    "outputId": "35932694-2a6d-439e-808d-9e9a827c180e"
   },
   "outputs": [
    {
     "name": "stdout",
     "output_type": "stream",
     "text": [
      "Defaulting to user installation because normal site-packages is not writeable\n",
      "Requirement already satisfied: opencv-python in c:\\users\\soohyun\\appdata\\roaming\\python\\python39\\site-packages (4.6.0.66)\n",
      "Requirement already satisfied: numpy>=1.19.3 in c:\\users\\soohyun\\appdata\\roaming\\python\\python39\\site-packages (from opencv-python) (1.19.5)\n"
     ]
    }
   ],
   "source": [
    "!pip install opencv-python\n",
    "import cv2\n",
    "import numpy as np\n",
    "import time\n",
    "import os\n",
    "\n",
    "video_path = \"data/videos/video.mp4\" #/content/video.mp4\n",
    "image_path = \"data/images/image\""
   ]
  },
  {
   "cell_type": "code",
   "execution_count": 2,
   "metadata": {},
   "outputs": [],
   "source": [
    "# 캠으로부터 데이터 가져온다.\n",
    "cap = cv2.VideoCapture(0)\n",
    "# 저장될 영상은 mp4형식이다.\n",
    "# 캠이 여러대인 경우 인자로 0, 1, 2, 3...을 넣어주면 된다.\n",
    "\n",
    "\n",
    "# 캠으로부터 정보를 읽어들일 수 없는 경우 에러 메세지를 반환한다.\n",
    "if cap.isOpened() == False:\n",
    "    print(\"Unable to read camera\")\n",
    "\n",
    "# 캠으로부터 정보를 읽어들일 수 있으면,\n",
    "else:\n",
    "    antiSpoofing = True\n",
    "\n",
    "    # 프레임의 정보 가져와 변수에 저장한다. \n",
    "    frame_width = int(cap.get(3))\n",
    "    frame_height = int(cap.get(4))\n",
    "\n",
    "\n",
    "    #캠으로 들어온 비디오를 따로 저장한다.\n",
    "    out = cv2.VideoWriter(video_path,\n",
    "                        cv2.VideoWriter_fourcc('D', 'I', 'V', 'X'),\n",
    "                        10,\n",
    "                        (frame_width, frame_height) )\n",
    "                        \n",
    "                        \n",
    "    # 동영상은 사진을 여러장 이어서 보여주는 개념이다.\n",
    "    # 1초에 몇 장의 이미지가 들어가는지, fps(frame per second) 단위를 쓴다.\n",
    "    # 캠으로부터 이미지 한 장만을 받아올 게 아니므로, 반복문을 사용한다.\n",
    "    start_time = time.time()\n",
    "    while True:\n",
    "        ret, frame = cap.read()\n",
    "        if ret == True:\n",
    "            out.write(frame)\n",
    "            cv2.imshow('frame', frame)\n",
    "            \n",
    "            recording_time = time.time() - start_time\n",
    "            #esc를 입력하면, 이미지를 받아오길 멈추게 한다.\n",
    "            if cv2.waitKey(1) & 0xFF == 27: #눈감았을 경우(대신해서 esc누름)\n",
    "                break\n",
    "            elif recording_time > 12: #약 12초 내에 blink감지 안됨\n",
    "                antiSpoofing = False\n",
    "                print(\"time over\")\n",
    "                break\n",
    "        else:\n",
    "            break\n",
    "            \n",
    "            \n",
    "    # sql 커서와 커넥션을 다 사용하고 나면 연결을 닫아주듯이, 비디오캡쳐도 닫아준다.\n",
    "    cap.release()\n",
    "    # 파일도 더 이상 작성하지 않도록 한다.\n",
    "    out.release()\n",
    "    \n",
    "    #화면에 띄운 창을 닫아준다.\n",
    "    cv2.destroyAllWindows()\n"
   ]
  },
  {
   "cell_type": "code",
   "execution_count": 3,
   "metadata": {
    "colab": {
     "base_uri": "https://localhost:8080/"
    },
    "id": "yjeUgBvOLWS5",
    "outputId": "2546f1d5-a358-4cf9-fd24-1ea6e124a423"
   },
   "outputs": [
    {
     "name": "stdout",
     "output_type": "stream",
     "text": [
      "saved image image1.jpg\n",
      "saved image image2.jpg\n"
     ]
    }
   ],
   "source": [
    "if antiSpoofing :\n",
    "    vidcap = cv2.VideoCapture(video_path)\n",
    "    fps = vidcap.get(cv2.CAP_PROP_FPS)\n",
    "    multiplier = fps*20\n",
    "    count = 1\n",
    "    success = True\n",
    "    while success:\n",
    "        frameId = int(round(vidcap.get(1)))\n",
    "        success,image = vidcap.read()\n",
    "        if frameId % multiplier < 1 :\n",
    "            cv2.imwrite(image_path + \"%d.jpg\" %count, image)\n",
    "            print(\"saved image image%d.jpg\" % count)\n",
    "            count += 1\n",
    "        if cv2.waitKey(10) == 27:                    \n",
    "            break"
   ]
  },
  {
   "cell_type": "code",
   "execution_count": 4,
   "metadata": {
    "id": "vWV1syHlQKWX"
   },
   "outputs": [
    {
     "name": "stdout",
     "output_type": "stream",
     "text": [
      "True\n"
     ]
    }
   ],
   "source": [
    "print(antiSpoofing)"
   ]
  }
 ],
 "metadata": {
  "colab": {
   "provenance": []
  },
  "kernelspec": {
   "display_name": "Python 3 (ipykernel)",
   "language": "python",
   "name": "python3"
  },
  "language_info": {
   "codemirror_mode": {
    "name": "ipython",
    "version": 3
   },
   "file_extension": ".py",
   "mimetype": "text/x-python",
   "name": "python",
   "nbconvert_exporter": "python",
   "pygments_lexer": "ipython3",
   "version": "3.9.13"
  }
 },
 "nbformat": 4,
 "nbformat_minor": 1
}
